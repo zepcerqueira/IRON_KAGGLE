{
 "cells": [
  {
   "cell_type": "markdown",
   "metadata": {},
   "source": [
    "# 1. Libraries Import:"
   ]
  },
  {
   "cell_type": "code",
   "execution_count": 63,
   "metadata": {},
   "outputs": [],
   "source": [
    "import pandas as pd\n",
    "import numpy as np\n",
    "import matplotlib.pyplot as plt\n",
    "import warnings\n",
    "from sklearn.model_selection import train_test_split\n",
    "from sklearn.ensemble import RandomForestRegressor\n",
    "from sklearn.linear_model import LinearRegression\n",
    "from sklearn.metrics import r2_score\n",
    "from sklearn.preprocessing import StandardScaler\n",
    "import pickle\n",
    "import seaborn as sns \n",
    "import matplotlib.pyplot as plt \n",
    "from sklearn.neighbors import KNeighborsRegressor\n",
    "from sklearn.ensemble import GradientBoostingRegressor\n",
    "from sklearn.metrics import mean_squared_error, r2_score\n",
    "warnings.filterwarnings(\"ignore\")"
   ]
  },
  {
   "cell_type": "markdown",
   "metadata": {},
   "source": [
    "# 2. DF Examine "
   ]
  },
  {
   "cell_type": "code",
   "execution_count": 64,
   "metadata": {},
   "outputs": [],
   "source": [
    "sales = pd.read_csv(\"sales.csv\")"
   ]
  },
  {
   "cell_type": "code",
   "execution_count": 65,
   "metadata": {},
   "outputs": [
    {
     "data": {
      "text/html": [
       "<div>\n",
       "<style scoped>\n",
       "    .dataframe tbody tr th:only-of-type {\n",
       "        vertical-align: middle;\n",
       "    }\n",
       "\n",
       "    .dataframe tbody tr th {\n",
       "        vertical-align: top;\n",
       "    }\n",
       "\n",
       "    .dataframe thead th {\n",
       "        text-align: right;\n",
       "    }\n",
       "</style>\n",
       "<table border=\"1\" class=\"dataframe\">\n",
       "  <thead>\n",
       "    <tr style=\"text-align: right;\">\n",
       "      <th></th>\n",
       "      <th>Unnamed: 0</th>\n",
       "      <th>store_ID</th>\n",
       "      <th>day_of_week</th>\n",
       "      <th>date</th>\n",
       "      <th>nb_customers_on_day</th>\n",
       "      <th>open</th>\n",
       "      <th>promotion</th>\n",
       "      <th>state_holiday</th>\n",
       "      <th>school_holiday</th>\n",
       "      <th>sales</th>\n",
       "    </tr>\n",
       "  </thead>\n",
       "  <tbody>\n",
       "    <tr>\n",
       "      <th>0</th>\n",
       "      <td>425390</td>\n",
       "      <td>366</td>\n",
       "      <td>4</td>\n",
       "      <td>2013-04-18</td>\n",
       "      <td>517</td>\n",
       "      <td>1</td>\n",
       "      <td>0</td>\n",
       "      <td>0</td>\n",
       "      <td>0</td>\n",
       "      <td>4422</td>\n",
       "    </tr>\n",
       "    <tr>\n",
       "      <th>1</th>\n",
       "      <td>291687</td>\n",
       "      <td>394</td>\n",
       "      <td>6</td>\n",
       "      <td>2015-04-11</td>\n",
       "      <td>694</td>\n",
       "      <td>1</td>\n",
       "      <td>0</td>\n",
       "      <td>0</td>\n",
       "      <td>0</td>\n",
       "      <td>8297</td>\n",
       "    </tr>\n",
       "    <tr>\n",
       "      <th>2</th>\n",
       "      <td>411278</td>\n",
       "      <td>807</td>\n",
       "      <td>4</td>\n",
       "      <td>2013-08-29</td>\n",
       "      <td>970</td>\n",
       "      <td>1</td>\n",
       "      <td>1</td>\n",
       "      <td>0</td>\n",
       "      <td>0</td>\n",
       "      <td>9729</td>\n",
       "    </tr>\n",
       "    <tr>\n",
       "      <th>3</th>\n",
       "      <td>664714</td>\n",
       "      <td>802</td>\n",
       "      <td>2</td>\n",
       "      <td>2013-05-28</td>\n",
       "      <td>473</td>\n",
       "      <td>1</td>\n",
       "      <td>1</td>\n",
       "      <td>0</td>\n",
       "      <td>0</td>\n",
       "      <td>6513</td>\n",
       "    </tr>\n",
       "    <tr>\n",
       "      <th>4</th>\n",
       "      <td>540835</td>\n",
       "      <td>726</td>\n",
       "      <td>4</td>\n",
       "      <td>2013-10-10</td>\n",
       "      <td>1068</td>\n",
       "      <td>1</td>\n",
       "      <td>1</td>\n",
       "      <td>0</td>\n",
       "      <td>0</td>\n",
       "      <td>10882</td>\n",
       "    </tr>\n",
       "  </tbody>\n",
       "</table>\n",
       "</div>"
      ],
      "text/plain": [
       "   Unnamed: 0  store_ID  day_of_week        date  nb_customers_on_day  open  \\\n",
       "0      425390       366            4  2013-04-18                  517     1   \n",
       "1      291687       394            6  2015-04-11                  694     1   \n",
       "2      411278       807            4  2013-08-29                  970     1   \n",
       "3      664714       802            2  2013-05-28                  473     1   \n",
       "4      540835       726            4  2013-10-10                 1068     1   \n",
       "\n",
       "   promotion state_holiday  school_holiday  sales  \n",
       "0          0             0               0   4422  \n",
       "1          0             0               0   8297  \n",
       "2          1             0               0   9729  \n",
       "3          1             0               0   6513  \n",
       "4          1             0               0  10882  "
      ]
     },
     "execution_count": 65,
     "metadata": {},
     "output_type": "execute_result"
    }
   ],
   "source": [
    "sales.head(5)"
   ]
  },
  {
   "cell_type": "markdown",
   "metadata": {},
   "source": [
    "`Don't know what the Unnamed column is so lets check it and drop it if so`"
   ]
  },
  {
   "cell_type": "code",
   "execution_count": 66,
   "metadata": {},
   "outputs": [
    {
     "data": {
      "text/plain": [
       "Unnamed: 0\n",
       "425390    1\n",
       "470563    1\n",
       "581093    1\n",
       "449511    1\n",
       "671617    1\n",
       "         ..\n",
       "359805    1\n",
       "159087    1\n",
       "52456     1\n",
       "46534     1\n",
       "305711    1\n",
       "Name: count, Length: 640840, dtype: int64"
      ]
     },
     "execution_count": 66,
     "metadata": {},
     "output_type": "execute_result"
    }
   ],
   "source": [
    "sales[\"Unnamed: 0\"].value_counts()\n"
   ]
  },
  {
   "cell_type": "markdown",
   "metadata": {},
   "source": [
    "`Looks random so drop it`"
   ]
  },
  {
   "cell_type": "code",
   "execution_count": 67,
   "metadata": {},
   "outputs": [],
   "source": [
    "sales = sales.drop(columns=[\"Unnamed: 0\"])"
   ]
  },
  {
   "cell_type": "code",
   "execution_count": 68,
   "metadata": {},
   "outputs": [
    {
     "data": {
      "text/plain": [
       "store_ID                int64\n",
       "day_of_week             int64\n",
       "date                   object\n",
       "nb_customers_on_day     int64\n",
       "open                    int64\n",
       "promotion               int64\n",
       "state_holiday          object\n",
       "school_holiday          int64\n",
       "sales                   int64\n",
       "dtype: object"
      ]
     },
     "execution_count": 68,
     "metadata": {},
     "output_type": "execute_result"
    }
   ],
   "source": [
    "sales.dtypes"
   ]
  },
  {
   "cell_type": "code",
   "execution_count": 69,
   "metadata": {},
   "outputs": [
    {
     "data": {
      "text/plain": [
       "store_ID               0\n",
       "day_of_week            0\n",
       "date                   0\n",
       "nb_customers_on_day    0\n",
       "open                   0\n",
       "promotion              0\n",
       "state_holiday          0\n",
       "school_holiday         0\n",
       "sales                  0\n",
       "dtype: int64"
      ]
     },
     "execution_count": 69,
     "metadata": {},
     "output_type": "execute_result"
    }
   ],
   "source": [
    "sales.isnull().sum()"
   ]
  },
  {
   "cell_type": "markdown",
   "metadata": {},
   "source": [
    "### 2.1 DATE Column Review"
   ]
  },
  {
   "cell_type": "markdown",
   "metadata": {},
   "source": [
    "`to_datetime transformation:`"
   ]
  },
  {
   "cell_type": "code",
   "execution_count": 70,
   "metadata": {},
   "outputs": [],
   "source": [
    "sales[\"date\"] = pd.to_datetime(sales[\"date\"])"
   ]
  },
  {
   "cell_type": "code",
   "execution_count": 71,
   "metadata": {},
   "outputs": [
    {
     "data": {
      "text/html": [
       "<div>\n",
       "<style scoped>\n",
       "    .dataframe tbody tr th:only-of-type {\n",
       "        vertical-align: middle;\n",
       "    }\n",
       "\n",
       "    .dataframe tbody tr th {\n",
       "        vertical-align: top;\n",
       "    }\n",
       "\n",
       "    .dataframe thead th {\n",
       "        text-align: right;\n",
       "    }\n",
       "</style>\n",
       "<table border=\"1\" class=\"dataframe\">\n",
       "  <thead>\n",
       "    <tr style=\"text-align: right;\">\n",
       "      <th></th>\n",
       "      <th>store_ID</th>\n",
       "      <th>day_of_week</th>\n",
       "      <th>date</th>\n",
       "      <th>nb_customers_on_day</th>\n",
       "      <th>open</th>\n",
       "      <th>promotion</th>\n",
       "      <th>state_holiday</th>\n",
       "      <th>school_holiday</th>\n",
       "      <th>sales</th>\n",
       "      <th>week_of_year</th>\n",
       "      <th>month</th>\n",
       "      <th>year</th>\n",
       "    </tr>\n",
       "  </thead>\n",
       "  <tbody>\n",
       "    <tr>\n",
       "      <th>0</th>\n",
       "      <td>366</td>\n",
       "      <td>3</td>\n",
       "      <td>2013-04-18</td>\n",
       "      <td>517</td>\n",
       "      <td>1</td>\n",
       "      <td>0</td>\n",
       "      <td>0</td>\n",
       "      <td>0</td>\n",
       "      <td>4422</td>\n",
       "      <td>16</td>\n",
       "      <td>4</td>\n",
       "      <td>2013</td>\n",
       "    </tr>\n",
       "    <tr>\n",
       "      <th>1</th>\n",
       "      <td>394</td>\n",
       "      <td>5</td>\n",
       "      <td>2015-04-11</td>\n",
       "      <td>694</td>\n",
       "      <td>1</td>\n",
       "      <td>0</td>\n",
       "      <td>0</td>\n",
       "      <td>0</td>\n",
       "      <td>8297</td>\n",
       "      <td>15</td>\n",
       "      <td>4</td>\n",
       "      <td>2015</td>\n",
       "    </tr>\n",
       "    <tr>\n",
       "      <th>2</th>\n",
       "      <td>807</td>\n",
       "      <td>3</td>\n",
       "      <td>2013-08-29</td>\n",
       "      <td>970</td>\n",
       "      <td>1</td>\n",
       "      <td>1</td>\n",
       "      <td>0</td>\n",
       "      <td>0</td>\n",
       "      <td>9729</td>\n",
       "      <td>35</td>\n",
       "      <td>8</td>\n",
       "      <td>2013</td>\n",
       "    </tr>\n",
       "    <tr>\n",
       "      <th>3</th>\n",
       "      <td>802</td>\n",
       "      <td>1</td>\n",
       "      <td>2013-05-28</td>\n",
       "      <td>473</td>\n",
       "      <td>1</td>\n",
       "      <td>1</td>\n",
       "      <td>0</td>\n",
       "      <td>0</td>\n",
       "      <td>6513</td>\n",
       "      <td>22</td>\n",
       "      <td>5</td>\n",
       "      <td>2013</td>\n",
       "    </tr>\n",
       "    <tr>\n",
       "      <th>4</th>\n",
       "      <td>726</td>\n",
       "      <td>3</td>\n",
       "      <td>2013-10-10</td>\n",
       "      <td>1068</td>\n",
       "      <td>1</td>\n",
       "      <td>1</td>\n",
       "      <td>0</td>\n",
       "      <td>0</td>\n",
       "      <td>10882</td>\n",
       "      <td>41</td>\n",
       "      <td>10</td>\n",
       "      <td>2013</td>\n",
       "    </tr>\n",
       "  </tbody>\n",
       "</table>\n",
       "</div>"
      ],
      "text/plain": [
       "   store_ID  day_of_week       date  nb_customers_on_day  open  promotion  \\\n",
       "0       366            3 2013-04-18                  517     1          0   \n",
       "1       394            5 2015-04-11                  694     1          0   \n",
       "2       807            3 2013-08-29                  970     1          1   \n",
       "3       802            1 2013-05-28                  473     1          1   \n",
       "4       726            3 2013-10-10                 1068     1          1   \n",
       "\n",
       "  state_holiday  school_holiday  sales  week_of_year  month  year  \n",
       "0             0               0   4422            16      4  2013  \n",
       "1             0               0   8297            15      4  2015  \n",
       "2             0               0   9729            35      8  2013  \n",
       "3             0               0   6513            22      5  2013  \n",
       "4             0               0  10882            41     10  2013  "
      ]
     },
     "execution_count": 71,
     "metadata": {},
     "output_type": "execute_result"
    }
   ],
   "source": [
    "sales[\"day_of_week\"] = sales[\"date\"].dt.dayofweek\n",
    "sales[\"week_of_year\"] = sales[\"date\"].dt.isocalendar().week\n",
    "sales[\"month\"] = sales[\"date\"].dt.month\n",
    "sales[\"year\"] = sales[\"date\"].dt.year\n",
    "\n",
    "#week_of_year is a UInt32 type.\n",
    "sales[\"week_of_year\"] = sales[\"week_of_year\"].astype(\"int32\")\n",
    "\n",
    "sales.head(5)"
   ]
  },
  {
   "cell_type": "markdown",
   "metadata": {},
   "source": [
    "`Initial column date is no longer needed `"
   ]
  },
  {
   "cell_type": "code",
   "execution_count": 72,
   "metadata": {},
   "outputs": [],
   "source": [
    "sales = sales.drop(columns=[\"date\"])"
   ]
  },
  {
   "cell_type": "code",
   "execution_count": 73,
   "metadata": {},
   "outputs": [
    {
     "data": {
      "text/plain": [
       "store_ID                int64\n",
       "day_of_week             int32\n",
       "nb_customers_on_day     int64\n",
       "open                    int64\n",
       "promotion               int64\n",
       "state_holiday          object\n",
       "school_holiday          int64\n",
       "sales                   int64\n",
       "week_of_year            int32\n",
       "month                   int32\n",
       "year                    int32\n",
       "dtype: object"
      ]
     },
     "execution_count": 73,
     "metadata": {},
     "output_type": "execute_result"
    }
   ],
   "source": [
    "sales.dtypes"
   ]
  },
  {
   "cell_type": "markdown",
   "metadata": {},
   "source": [
    "### 2.2 state_holiday Column Review"
   ]
  },
  {
   "cell_type": "markdown",
   "metadata": {},
   "source": [
    "`Check on the state_holiday column`"
   ]
  },
  {
   "cell_type": "code",
   "execution_count": 74,
   "metadata": {},
   "outputs": [
    {
     "data": {
      "text/plain": [
       "state_holiday\n",
       "0    621160\n",
       "a     12842\n",
       "b      4214\n",
       "c      2624\n",
       "Name: count, dtype: int64"
      ]
     },
     "execution_count": 74,
     "metadata": {},
     "output_type": "execute_result"
    }
   ],
   "source": [
    "sales.state_holiday.value_counts()"
   ]
  },
  {
   "cell_type": "markdown",
   "metadata": {},
   "source": [
    "`We can transform in holidays vs no holiday (0 and 1)`"
   ]
  },
  {
   "cell_type": "code",
   "execution_count": 75,
   "metadata": {},
   "outputs": [],
   "source": [
    "sales[\"state_holiday\"] = sales[\"state_holiday\"].replace([\"a\", \"b\", \"c\"], 1)"
   ]
  },
  {
   "cell_type": "code",
   "execution_count": 76,
   "metadata": {},
   "outputs": [
    {
     "data": {
      "text/plain": [
       "state_holiday\n",
       "0    621160\n",
       "1     19680\n",
       "Name: count, dtype: int64"
      ]
     },
     "execution_count": 76,
     "metadata": {},
     "output_type": "execute_result"
    }
   ],
   "source": [
    "sales.state_holiday.value_counts()"
   ]
  },
  {
   "cell_type": "code",
   "execution_count": 77,
   "metadata": {},
   "outputs": [
    {
     "data": {
      "text/html": [
       "<div>\n",
       "<style scoped>\n",
       "    .dataframe tbody tr th:only-of-type {\n",
       "        vertical-align: middle;\n",
       "    }\n",
       "\n",
       "    .dataframe tbody tr th {\n",
       "        vertical-align: top;\n",
       "    }\n",
       "\n",
       "    .dataframe thead th {\n",
       "        text-align: right;\n",
       "    }\n",
       "</style>\n",
       "<table border=\"1\" class=\"dataframe\">\n",
       "  <thead>\n",
       "    <tr style=\"text-align: right;\">\n",
       "      <th></th>\n",
       "      <th>store_ID</th>\n",
       "      <th>day_of_week</th>\n",
       "      <th>nb_customers_on_day</th>\n",
       "      <th>open</th>\n",
       "      <th>promotion</th>\n",
       "      <th>state_holiday</th>\n",
       "      <th>school_holiday</th>\n",
       "      <th>sales</th>\n",
       "      <th>week_of_year</th>\n",
       "      <th>month</th>\n",
       "      <th>year</th>\n",
       "    </tr>\n",
       "  </thead>\n",
       "  <tbody>\n",
       "    <tr>\n",
       "      <th>0</th>\n",
       "      <td>366</td>\n",
       "      <td>3</td>\n",
       "      <td>517</td>\n",
       "      <td>1</td>\n",
       "      <td>0</td>\n",
       "      <td>0</td>\n",
       "      <td>0</td>\n",
       "      <td>4422</td>\n",
       "      <td>16</td>\n",
       "      <td>4</td>\n",
       "      <td>2013</td>\n",
       "    </tr>\n",
       "    <tr>\n",
       "      <th>1</th>\n",
       "      <td>394</td>\n",
       "      <td>5</td>\n",
       "      <td>694</td>\n",
       "      <td>1</td>\n",
       "      <td>0</td>\n",
       "      <td>0</td>\n",
       "      <td>0</td>\n",
       "      <td>8297</td>\n",
       "      <td>15</td>\n",
       "      <td>4</td>\n",
       "      <td>2015</td>\n",
       "    </tr>\n",
       "    <tr>\n",
       "      <th>2</th>\n",
       "      <td>807</td>\n",
       "      <td>3</td>\n",
       "      <td>970</td>\n",
       "      <td>1</td>\n",
       "      <td>1</td>\n",
       "      <td>0</td>\n",
       "      <td>0</td>\n",
       "      <td>9729</td>\n",
       "      <td>35</td>\n",
       "      <td>8</td>\n",
       "      <td>2013</td>\n",
       "    </tr>\n",
       "    <tr>\n",
       "      <th>3</th>\n",
       "      <td>802</td>\n",
       "      <td>1</td>\n",
       "      <td>473</td>\n",
       "      <td>1</td>\n",
       "      <td>1</td>\n",
       "      <td>0</td>\n",
       "      <td>0</td>\n",
       "      <td>6513</td>\n",
       "      <td>22</td>\n",
       "      <td>5</td>\n",
       "      <td>2013</td>\n",
       "    </tr>\n",
       "    <tr>\n",
       "      <th>4</th>\n",
       "      <td>726</td>\n",
       "      <td>3</td>\n",
       "      <td>1068</td>\n",
       "      <td>1</td>\n",
       "      <td>1</td>\n",
       "      <td>0</td>\n",
       "      <td>0</td>\n",
       "      <td>10882</td>\n",
       "      <td>41</td>\n",
       "      <td>10</td>\n",
       "      <td>2013</td>\n",
       "    </tr>\n",
       "  </tbody>\n",
       "</table>\n",
       "</div>"
      ],
      "text/plain": [
       "   store_ID  day_of_week  nb_customers_on_day  open  promotion state_holiday  \\\n",
       "0       366            3                  517     1          0             0   \n",
       "1       394            5                  694     1          0             0   \n",
       "2       807            3                  970     1          1             0   \n",
       "3       802            1                  473     1          1             0   \n",
       "4       726            3                 1068     1          1             0   \n",
       "\n",
       "   school_holiday  sales  week_of_year  month  year  \n",
       "0               0   4422            16      4  2013  \n",
       "1               0   8297            15      4  2015  \n",
       "2               0   9729            35      8  2013  \n",
       "3               0   6513            22      5  2013  \n",
       "4               0  10882            41     10  2013  "
      ]
     },
     "execution_count": 77,
     "metadata": {},
     "output_type": "execute_result"
    }
   ],
   "source": [
    "sales.head(5)"
   ]
  },
  {
   "cell_type": "markdown",
   "metadata": {},
   "source": [
    "# 3. Column Corr"
   ]
  },
  {
   "cell_type": "code",
   "execution_count": 78,
   "metadata": {},
   "outputs": [
    {
     "data": {
      "image/png": "[encoded data removed]",
      "text/plain": [
       "<Figure size 2000x2000 with 2 Axes>"
      ]
     },
     "metadata": {},
     "output_type": "display_data"
    }
   ],
   "source": [
    "mask = np.triu(np.ones_like(sales.corr(), dtype=bool))\n",
    "\n",
    "fig = plt.figure(figsize=(20, 20))\n",
    "sns.heatmap(sales.corr(), annot=True, cmap=\"coolwarm\", mask=mask)  \n",
    "plt.show()"
   ]
  },
  {
   "cell_type": "markdown",
   "metadata": {},
   "source": [
    "`We can drop week_of_year `"
   ]
  },
  {
   "cell_type": "code",
   "execution_count": 79,
   "metadata": {},
   "outputs": [],
   "source": [
    "sales = sales.drop(columns=[\"week_of_year\"])"
   ]
  },
  {
   "cell_type": "markdown",
   "metadata": {},
   "source": [
    "# 4. Model Creation"
   ]
  },
  {
   "cell_type": "code",
   "execution_count": 80,
   "metadata": {},
   "outputs": [],
   "source": [
    "X_train, X_test, y_train, y_test = train_test_split(sales.drop(columns=[\"sales\"]), \n",
    "                                                    sales[\"sales\"],test_size=0.2, \n",
    "                                                    random_state=0)"
   ]
  },
  {
   "cell_type": "markdown",
   "metadata": {},
   "source": [
    "### 4.1 LinearRegression:"
   ]
  },
  {
   "cell_type": "code",
   "execution_count": 81,
   "metadata": {},
   "outputs": [],
   "source": [
    "regr = LinearRegression()"
   ]
  },
  {
   "cell_type": "code",
   "execution_count": 82,
   "metadata": {},
   "outputs": [
    {
     "data": {
      "text/plain": [
       "0.8544279759246547"
      ]
     },
     "execution_count": 82,
     "metadata": {},
     "output_type": "execute_result"
    }
   ],
   "source": [
    "sales_model_1 = regr.fit(X_train, y_train)\n",
    "\n",
    "sales_model_1.score(X_test, y_test)"
   ]
  },
  {
   "cell_type": "code",
   "execution_count": 83,
   "metadata": {},
   "outputs": [],
   "source": [
    "model_1_pred = sales_model_1.predict(X_test)"
   ]
  },
  {
   "cell_type": "code",
   "execution_count": 84,
   "metadata": {},
   "outputs": [
    {
     "data": {
      "text/plain": [
       "array([4025, 5538, 5579, ..., 7505,    0, 6238])"
      ]
     },
     "execution_count": 84,
     "metadata": {},
     "output_type": "execute_result"
    }
   ],
   "source": [
    "np.array(y_test)"
   ]
  },
  {
   "cell_type": "code",
   "execution_count": 85,
   "metadata": {},
   "outputs": [
    {
     "name": "stdout",
     "output_type": "stream",
     "text": [
      "R-squared Score: 0.8544279759246547\n"
     ]
    }
   ],
   "source": [
    "r2 = r2_score(y_test, model_1_pred)\n",
    "print(f\"R-squared Score: {r2}\")"
   ]
  },
  {
   "cell_type": "markdown",
   "metadata": {},
   "source": [
    "`The model performs well but wee can improve. Try to use the StandardScaler`"
   ]
  },
  {
   "cell_type": "code",
   "execution_count": 86,
   "metadata": {},
   "outputs": [],
   "source": [
    "scaler = StandardScaler()\n",
    "X_train_scaled = scaler.fit_transform(X_train)\n",
    "X_test_scaled = scaler.transform(X_test)"
   ]
  },
  {
   "cell_type": "code",
   "execution_count": 87,
   "metadata": {},
   "outputs": [],
   "source": [
    "model_1_pred_scalled = sales_model_1.predict(X_test_scaled)"
   ]
  },
  {
   "cell_type": "code",
   "execution_count": 88,
   "metadata": {},
   "outputs": [
    {
     "name": "stdout",
     "output_type": "stream",
     "text": [
      "R-squared Score: -5853.347147350528\n"
     ]
    }
   ],
   "source": [
    "r2_scaled = r2_score(y_test, model_1_pred_scalled)\n",
    "print(f\"R-squared Score: {r2_scaled}\")"
   ]
  },
  {
   "cell_type": "markdown",
   "metadata": {},
   "source": [
    "`It's not doing any good`"
   ]
  },
  {
   "cell_type": "markdown",
   "metadata": {},
   "source": [
    "### 4.1 Model Save"
   ]
  },
  {
   "cell_type": "code",
   "execution_count": 89,
   "metadata": {},
   "outputs": [],
   "source": [
    "with open(\"sales_model_linear_regr.pkl\", \"wb\") as file:\n",
    "    pickle.dump(sales_model_1, file)"
   ]
  },
  {
   "cell_type": "code",
   "execution_count": 90,
   "metadata": {},
   "outputs": [],
   "source": [
    "X_train.to_pickle(\"train_data.pkl\")\n",
    "y_train.to_pickle(\"train_label.pkl\")\n",
    "X_test.to_pickle(\"test_data.pkl\")\n",
    "y_test.to_pickle(\"test_label.pkl\")"
   ]
  },
  {
   "cell_type": "markdown",
   "metadata": {},
   "source": [
    "# 5. KNN Regressor"
   ]
  },
  {
   "cell_type": "code",
   "execution_count": 91,
   "metadata": {},
   "outputs": [
    {
     "data": {
      "text/plain": [
       "0.8957841122658531"
      ]
     },
     "execution_count": 91,
     "metadata": {},
     "output_type": "execute_result"
    }
   ],
   "source": [
    "knnr = KNeighborsRegressor(n_neighbors=3, weights='distance')\n",
    "\n",
    "sales_model_2 = knnr.fit(X_train, y_train)\n",
    "\n",
    "sales_model_2.score(X_test, y_test)"
   ]
  },
  {
   "cell_type": "code",
   "execution_count": 92,
   "metadata": {},
   "outputs": [],
   "source": [
    "model_2_pred = sales_model_2.predict(X_test)"
   ]
  },
  {
   "cell_type": "code",
   "execution_count": 93,
   "metadata": {},
   "outputs": [
    {
     "name": "stdout",
     "output_type": "stream",
     "text": [
      "R-squared Score: 0.8957841122658531\n"
     ]
    }
   ],
   "source": [
    "r2_knnr = r2_score(y_test, model_2_pred)\n",
    "print(f\"R-squared Score: {r2_knnr}\")"
   ]
  },
  {
   "cell_type": "markdown",
   "metadata": {},
   "source": [
    "`We have a better score then with the LinearRegression`"
   ]
  },
  {
   "cell_type": "code",
   "execution_count": 94,
   "metadata": {},
   "outputs": [],
   "source": [
    "with open(\"sales_model_knnr.pkl\", \"wb\") as file:\n",
    "    pickle.dump(sales_model_2, file)"
   ]
  },
  {
   "cell_type": "markdown",
   "metadata": {},
   "source": [
    "# 6. Random Forest"
   ]
  },
  {
   "cell_type": "code",
   "execution_count": 95,
   "metadata": {},
   "outputs": [
    {
     "name": "stdout",
     "output_type": "stream",
     "text": [
      "Train score: 0.8376517088771364\n",
      "Test score: 0.837036166296006\n"
     ]
    }
   ],
   "source": [
    "forest = RandomForestRegressor(n_estimators=50, \n",
    "                               max_samples=100,\n",
    "                               max_depth=3,\n",
    "                               random_state=0) \n",
    "\n",
    "sales_model_3 = forest.fit(X_train, y_train)\n",
    "print('Train score:', sales_model_3.score(X_train, y_train))\n",
    "print('Test score:', sales_model_3.score(X_test, y_test))"
   ]
  },
  {
   "cell_type": "markdown",
   "metadata": {},
   "source": [
    "`The model seems to perform worst then the previous ones`"
   ]
  },
  {
   "cell_type": "code",
   "execution_count": 96,
   "metadata": {},
   "outputs": [],
   "source": [
    "sales_model_pred = sales_model_3.predict(X_test)"
   ]
  },
  {
   "cell_type": "code",
   "execution_count": 97,
   "metadata": {},
   "outputs": [
    {
     "name": "stdout",
     "output_type": "stream",
     "text": [
      "R-squared Score: 0.837036166296006\n"
     ]
    }
   ],
   "source": [
    "r2_rf = r2_score(y_test, sales_model_pred)\n",
    "print(f\"R-squared Score: {r2_rf}\")"
   ]
  },
  {
   "cell_type": "markdown",
   "metadata": {},
   "source": [
    "# 7. Gradient Boosting Regressor"
   ]
  },
  {
   "cell_type": "code",
   "execution_count": 98,
   "metadata": {},
   "outputs": [
    {
     "name": "stdout",
     "output_type": "stream",
     "text": [
      "Train score: 0.8941924871449621\n",
      "Test score: 0.8924154642118799\n"
     ]
    }
   ],
   "source": [
    "gb_reg = GradientBoostingRegressor(max_depth=5, \n",
    "                                   learning_rate=0.08,\n",
    "                                   max_leaf_nodes=10,\n",
    "                                   n_estimators=100,\n",
    "                                   random_state=1 \n",
    "                                   )\n",
    "sales_model_4 = gb_reg.fit(X_train, y_train)\n",
    "print('Train score:', sales_model_4.score(X_train, y_train))\n",
    "print('Test score:', sales_model_4.score(X_test, y_test))"
   ]
  },
  {
   "cell_type": "code",
   "execution_count": 99,
   "metadata": {},
   "outputs": [],
   "source": [
    "sales_model_pred_4 = sales_model_4.predict(X_test)"
   ]
  },
  {
   "cell_type": "code",
   "execution_count": 100,
   "metadata": {},
   "outputs": [
    {
     "name": "stdout",
     "output_type": "stream",
     "text": [
      "R-squared Score: 0.8924154642118799\n"
     ]
    }
   ],
   "source": [
    "r2_gb = r2_score(y_test, sales_model_pred_4)\n",
    "print(f\"R-squared Score: {r2_gb}\")"
   ]
  },
  {
   "cell_type": "markdown",
   "metadata": {},
   "source": [
    "`It's the best model so far`"
   ]
  },
  {
   "cell_type": "code",
   "execution_count": 101,
   "metadata": {},
   "outputs": [],
   "source": [
    "X_train_full = sales.drop(\"sales\", axis=1)\n",
    "y_train_full = sales[\"sales\"]"
   ]
  },
  {
   "cell_type": "markdown",
   "metadata": {},
   "source": [
    "`Before saving it, we train with our full Dataset`"
   ]
  },
  {
   "cell_type": "code",
   "execution_count": 102,
   "metadata": {},
   "outputs": [
    {
     "data": {
      "text/html": [
       "<style>#sk-container-id-2 {color: black;background-color: white;}#sk-container-id-2 pre{padding: 0;}#sk-container-id-2 div.sk-toggleable {background-color: white;}#sk-container-id-2 label.sk-toggleable__label {cursor: pointer;display: block;width: 100%;margin-bottom: 0;padding: 0.3em;box-sizing: border-box;text-align: center;}#sk-container-id-2 label.sk-toggleable__label-arrow:before {content: \"▸\";float: left;margin-right: 0.25em;color: #696969;}#sk-container-id-2 label.sk-toggleable__label-arrow:hover:before {color: black;}#sk-container-id-2 div.sk-estimator:hover label.sk-toggleable__label-arrow:before {color: black;}#sk-container-id-2 div.sk-toggleable__content {max-height: 0;max-width: 0;overflow: hidden;text-align: left;background-color: #f0f8ff;}#sk-container-id-2 div.sk-toggleable__content pre {margin: 0.2em;color: black;border-radius: 0.25em;background-color: #f0f8ff;}#sk-container-id-2 input.sk-toggleable__control:checked~div.sk-toggleable__content {max-height: 200px;max-width: 100%;overflow: auto;}#sk-container-id-2 input.sk-toggleable__control:checked~label.sk-toggleable__label-arrow:before {content: \"▾\";}#sk-container-id-2 div.sk-estimator input.sk-toggleable__control:checked~label.sk-toggleable__label {background-color: #d4ebff;}#sk-container-id-2 div.sk-label input.sk-toggleable__control:checked~label.sk-toggleable__label {background-color: #d4ebff;}#sk-container-id-2 input.sk-hidden--visually {border: 0;clip: rect(1px 1px 1px 1px);clip: rect(1px, 1px, 1px, 1px);height: 1px;margin: -1px;overflow: hidden;padding: 0;position: absolute;width: 1px;}#sk-container-id-2 div.sk-estimator {font-family: monospace;background-color: #f0f8ff;border: 1px dotted black;border-radius: 0.25em;box-sizing: border-box;margin-bottom: 0.5em;}#sk-container-id-2 div.sk-estimator:hover {background-color: #d4ebff;}#sk-container-id-2 div.sk-parallel-item::after {content: \"\";width: 100%;border-bottom: 1px solid gray;flex-grow: 1;}#sk-container-id-2 div.sk-label:hover label.sk-toggleable__label {background-color: #d4ebff;}#sk-container-id-2 div.sk-serial::before {content: \"\";position: absolute;border-left: 1px solid gray;box-sizing: border-box;top: 0;bottom: 0;left: 50%;z-index: 0;}#sk-container-id-2 div.sk-serial {display: flex;flex-direction: column;align-items: center;background-color: white;padding-right: 0.2em;padding-left: 0.2em;position: relative;}#sk-container-id-2 div.sk-item {position: relative;z-index: 1;}#sk-container-id-2 div.sk-parallel {display: flex;align-items: stretch;justify-content: center;background-color: white;position: relative;}#sk-container-id-2 div.sk-item::before, #sk-container-id-2 div.sk-parallel-item::before {content: \"\";position: absolute;border-left: 1px solid gray;box-sizing: border-box;top: 0;bottom: 0;left: 50%;z-index: -1;}#sk-container-id-2 div.sk-parallel-item {display: flex;flex-direction: column;z-index: 1;position: relative;background-color: white;}#sk-container-id-2 div.sk-parallel-item:first-child::after {align-self: flex-end;width: 50%;}#sk-container-id-2 div.sk-parallel-item:last-child::after {align-self: flex-start;width: 50%;}#sk-container-id-2 div.sk-parallel-item:only-child::after {width: 0;}#sk-container-id-2 div.sk-dashed-wrapped {border: 1px dashed gray;margin: 0 0.4em 0.5em 0.4em;box-sizing: border-box;padding-bottom: 0.4em;background-color: white;}#sk-container-id-2 div.sk-label label {font-family: monospace;font-weight: bold;display: inline-block;line-height: 1.2em;}#sk-container-id-2 div.sk-label-container {text-align: center;}#sk-container-id-2 div.sk-container {/* jupyter's `normalize.less` sets `[hidden] { display: none; }` but bootstrap.min.css set `[hidden] { display: none !important; }` so we also need the `!important` here to be able to override the default hidden behavior on the sphinx rendered scikit-learn.org. See: https://github.com/scikit-learn/scikit-learn/issues/21755 */display: inline-block !important;position: relative;}#sk-container-id-2 div.sk-text-repr-fallback {display: none;}</style><div id=\"sk-container-id-2\" class=\"sk-top-container\"><div class=\"sk-text-repr-fallback\"><pre>GradientBoostingRegressor(learning_rate=0.08, max_depth=5, max_leaf_nodes=10,\n",
       "                          random_state=1)</pre><b>In a Jupyter environment, please rerun this cell to show the HTML representation or trust the notebook. <br />On GitHub, the HTML representation is unable to render, please try loading this page with nbviewer.org.</b></div><div class=\"sk-container\" hidden><div class=\"sk-item\"><div class=\"sk-estimator sk-toggleable\"><input class=\"sk-toggleable__control sk-hidden--visually\" id=\"sk-estimator-id-2\" type=\"checkbox\" checked><label for=\"sk-estimator-id-2\" class=\"sk-toggleable__label sk-toggleable__label-arrow\">GradientBoostingRegressor</label><div class=\"sk-toggleable__content\"><pre>GradientBoostingRegressor(learning_rate=0.08, max_depth=5, max_leaf_nodes=10,\n",
       "                          random_state=1)</pre></div></div></div></div></div>"
      ],
      "text/plain": [
       "GradientBoostingRegressor(learning_rate=0.08, max_depth=5, max_leaf_nodes=10,\n",
       "                          random_state=1)"
      ]
     },
     "execution_count": 102,
     "metadata": {},
     "output_type": "execute_result"
    }
   ],
   "source": [
    "sales_model_4.fit(X_train_full, y_train_full)"
   ]
  },
  {
   "cell_type": "code",
   "execution_count": 103,
   "metadata": {},
   "outputs": [],
   "source": [
    "with open(\"sales_model_grad_boost.pkl\", \"wb\") as file:\n",
    "    pickle.dump(sales_model_4, file)"
   ]
  },
  {
   "cell_type": "markdown",
   "metadata": {},
   "source": [
    "# 7. Model testing using validation sample"
   ]
  },
  {
   "cell_type": "markdown",
   "metadata": {},
   "source": [
    "### Gradient Boosting"
   ]
  },
  {
   "cell_type": "code",
   "execution_count": 104,
   "metadata": {},
   "outputs": [],
   "source": [
    "test_data_path = \"validation_sample.csv\"\n",
    "X_test_2 = pd.read_csv(test_data_path)"
   ]
  },
  {
   "cell_type": "markdown",
   "metadata": {},
   "source": [
    "### 7.1 Train_test Review "
   ]
  },
  {
   "cell_type": "code",
   "execution_count": 105,
   "metadata": {},
   "outputs": [
    {
     "data": {
      "text/plain": [
       "index                  71185\n",
       "store_ID               71185\n",
       "day_of_week            71185\n",
       "date                   71185\n",
       "nb_customers_on_day    71185\n",
       "open                   71185\n",
       "promotion              71185\n",
       "state_holiday          71185\n",
       "school_holiday         71185\n",
       "dtype: int64"
      ]
     },
     "execution_count": 105,
     "metadata": {},
     "output_type": "execute_result"
    }
   ],
   "source": [
    "X_test_2.isna().sum()"
   ]
  },
  {
   "cell_type": "code",
   "execution_count": 106,
   "metadata": {},
   "outputs": [],
   "source": [
    "X_test_2 = X_test_2.dropna()"
   ]
  },
  {
   "cell_type": "markdown",
   "metadata": {},
   "source": [
    "`Can drop the NaN values`"
   ]
  },
  {
   "cell_type": "code",
   "execution_count": 107,
   "metadata": {},
   "outputs": [],
   "source": [
    "#Date Review\n",
    "X_test_2[\"date\"] = pd.to_datetime(X_test_2[\"date\"], format=\"%d/%m/%Y\")\n",
    "X_test_2[\"day_of_week\"] = X_test_2[\"date\"].dt.dayofweek\n",
    "\n",
    "X_test_2[\"month\"] = X_test_2[\"date\"].dt.month\n",
    "X_test_2[\"year\"] = X_test_2[\"date\"].dt.year\n",
    "\n",
    "X_test_2 = X_test_2.drop(columns=[\"date\"])\n",
    "\n",
    "#Holiday Review:\n",
    "X_test_2[\"state_holiday\"] = X_test_2[\"state_holiday\"].replace([\"a\", \"b\", \"c\"], 1)\n",
    "\n"
   ]
  },
  {
   "cell_type": "code",
   "execution_count": 108,
   "metadata": {},
   "outputs": [],
   "source": [
    "X_test_2_review = X_test_2.drop(columns=[\"index\"])"
   ]
  },
  {
   "cell_type": "markdown",
   "metadata": {},
   "source": [
    "`Performing the same steps for the date as before`"
   ]
  },
  {
   "cell_type": "code",
   "execution_count": 109,
   "metadata": {},
   "outputs": [
    {
     "data": {
      "text/html": [
       "<div>\n",
       "<style scoped>\n",
       "    .dataframe tbody tr th:only-of-type {\n",
       "        vertical-align: middle;\n",
       "    }\n",
       "\n",
       "    .dataframe tbody tr th {\n",
       "        vertical-align: top;\n",
       "    }\n",
       "\n",
       "    .dataframe thead th {\n",
       "        text-align: right;\n",
       "    }\n",
       "</style>\n",
       "<table border=\"1\" class=\"dataframe\">\n",
       "  <thead>\n",
       "    <tr style=\"text-align: right;\">\n",
       "      <th></th>\n",
       "      <th>store_ID</th>\n",
       "      <th>day_of_week</th>\n",
       "      <th>nb_customers_on_day</th>\n",
       "      <th>open</th>\n",
       "      <th>promotion</th>\n",
       "      <th>state_holiday</th>\n",
       "      <th>school_holiday</th>\n",
       "      <th>sales</th>\n",
       "      <th>month</th>\n",
       "      <th>year</th>\n",
       "    </tr>\n",
       "  </thead>\n",
       "  <tbody>\n",
       "    <tr>\n",
       "      <th>0</th>\n",
       "      <td>366</td>\n",
       "      <td>3</td>\n",
       "      <td>517</td>\n",
       "      <td>1</td>\n",
       "      <td>0</td>\n",
       "      <td>0</td>\n",
       "      <td>0</td>\n",
       "      <td>4422</td>\n",
       "      <td>4</td>\n",
       "      <td>2013</td>\n",
       "    </tr>\n",
       "    <tr>\n",
       "      <th>1</th>\n",
       "      <td>394</td>\n",
       "      <td>5</td>\n",
       "      <td>694</td>\n",
       "      <td>1</td>\n",
       "      <td>0</td>\n",
       "      <td>0</td>\n",
       "      <td>0</td>\n",
       "      <td>8297</td>\n",
       "      <td>4</td>\n",
       "      <td>2015</td>\n",
       "    </tr>\n",
       "    <tr>\n",
       "      <th>2</th>\n",
       "      <td>807</td>\n",
       "      <td>3</td>\n",
       "      <td>970</td>\n",
       "      <td>1</td>\n",
       "      <td>1</td>\n",
       "      <td>0</td>\n",
       "      <td>0</td>\n",
       "      <td>9729</td>\n",
       "      <td>8</td>\n",
       "      <td>2013</td>\n",
       "    </tr>\n",
       "    <tr>\n",
       "      <th>3</th>\n",
       "      <td>802</td>\n",
       "      <td>1</td>\n",
       "      <td>473</td>\n",
       "      <td>1</td>\n",
       "      <td>1</td>\n",
       "      <td>0</td>\n",
       "      <td>0</td>\n",
       "      <td>6513</td>\n",
       "      <td>5</td>\n",
       "      <td>2013</td>\n",
       "    </tr>\n",
       "    <tr>\n",
       "      <th>4</th>\n",
       "      <td>726</td>\n",
       "      <td>3</td>\n",
       "      <td>1068</td>\n",
       "      <td>1</td>\n",
       "      <td>1</td>\n",
       "      <td>0</td>\n",
       "      <td>0</td>\n",
       "      <td>10882</td>\n",
       "      <td>10</td>\n",
       "      <td>2013</td>\n",
       "    </tr>\n",
       "  </tbody>\n",
       "</table>\n",
       "</div>"
      ],
      "text/plain": [
       "   store_ID  day_of_week  nb_customers_on_day  open  promotion state_holiday  \\\n",
       "0       366            3                  517     1          0             0   \n",
       "1       394            5                  694     1          0             0   \n",
       "2       807            3                  970     1          1             0   \n",
       "3       802            1                  473     1          1             0   \n",
       "4       726            3                 1068     1          1             0   \n",
       "\n",
       "   school_holiday  sales  month  year  \n",
       "0               0   4422      4  2013  \n",
       "1               0   8297      4  2015  \n",
       "2               0   9729      8  2013  \n",
       "3               0   6513      5  2013  \n",
       "4               0  10882     10  2013  "
      ]
     },
     "execution_count": 109,
     "metadata": {},
     "output_type": "execute_result"
    }
   ],
   "source": [
    "sales.head(5)"
   ]
  },
  {
   "cell_type": "code",
   "execution_count": 110,
   "metadata": {},
   "outputs": [
    {
     "data": {
      "text/html": [
       "<div>\n",
       "<style scoped>\n",
       "    .dataframe tbody tr th:only-of-type {\n",
       "        vertical-align: middle;\n",
       "    }\n",
       "\n",
       "    .dataframe tbody tr th {\n",
       "        vertical-align: top;\n",
       "    }\n",
       "\n",
       "    .dataframe thead th {\n",
       "        text-align: right;\n",
       "    }\n",
       "</style>\n",
       "<table border=\"1\" class=\"dataframe\">\n",
       "  <thead>\n",
       "    <tr style=\"text-align: right;\">\n",
       "      <th></th>\n",
       "      <th>index</th>\n",
       "      <th>store_ID</th>\n",
       "      <th>day_of_week</th>\n",
       "      <th>nb_customers_on_day</th>\n",
       "      <th>open</th>\n",
       "      <th>promotion</th>\n",
       "      <th>state_holiday</th>\n",
       "      <th>school_holiday</th>\n",
       "      <th>month</th>\n",
       "      <th>year</th>\n",
       "    </tr>\n",
       "  </thead>\n",
       "  <tbody>\n",
       "    <tr>\n",
       "      <th>0</th>\n",
       "      <td>272371.0</td>\n",
       "      <td>415.0</td>\n",
       "      <td>6</td>\n",
       "      <td>0.0</td>\n",
       "      <td>0.0</td>\n",
       "      <td>0.0</td>\n",
       "      <td>0</td>\n",
       "      <td>0.0</td>\n",
       "      <td>3</td>\n",
       "      <td>2015</td>\n",
       "    </tr>\n",
       "    <tr>\n",
       "      <th>1</th>\n",
       "      <td>558468.0</td>\n",
       "      <td>27.0</td>\n",
       "      <td>6</td>\n",
       "      <td>0.0</td>\n",
       "      <td>0.0</td>\n",
       "      <td>0.0</td>\n",
       "      <td>0</td>\n",
       "      <td>0.0</td>\n",
       "      <td>12</td>\n",
       "      <td>2013</td>\n",
       "    </tr>\n",
       "    <tr>\n",
       "      <th>2</th>\n",
       "      <td>76950.0</td>\n",
       "      <td>404.0</td>\n",
       "      <td>2</td>\n",
       "      <td>657.0</td>\n",
       "      <td>1.0</td>\n",
       "      <td>1.0</td>\n",
       "      <td>0</td>\n",
       "      <td>0.0</td>\n",
       "      <td>3</td>\n",
       "      <td>2014</td>\n",
       "    </tr>\n",
       "    <tr>\n",
       "      <th>3</th>\n",
       "      <td>77556.0</td>\n",
       "      <td>683.0</td>\n",
       "      <td>1</td>\n",
       "      <td>862.0</td>\n",
       "      <td>1.0</td>\n",
       "      <td>0.0</td>\n",
       "      <td>0</td>\n",
       "      <td>0.0</td>\n",
       "      <td>1</td>\n",
       "      <td>2013</td>\n",
       "    </tr>\n",
       "    <tr>\n",
       "      <th>4</th>\n",
       "      <td>456344.0</td>\n",
       "      <td>920.0</td>\n",
       "      <td>2</td>\n",
       "      <td>591.0</td>\n",
       "      <td>1.0</td>\n",
       "      <td>1.0</td>\n",
       "      <td>0</td>\n",
       "      <td>0.0</td>\n",
       "      <td>3</td>\n",
       "      <td>2014</td>\n",
       "    </tr>\n",
       "    <tr>\n",
       "      <th>5</th>\n",
       "      <td>436466.0</td>\n",
       "      <td>758.0</td>\n",
       "      <td>3</td>\n",
       "      <td>569.0</td>\n",
       "      <td>1.0</td>\n",
       "      <td>0.0</td>\n",
       "      <td>0</td>\n",
       "      <td>0.0</td>\n",
       "      <td>6</td>\n",
       "      <td>2014</td>\n",
       "    </tr>\n",
       "    <tr>\n",
       "      <th>6</th>\n",
       "      <td>646251.0</td>\n",
       "      <td>563.0</td>\n",
       "      <td>0</td>\n",
       "      <td>321.0</td>\n",
       "      <td>1.0</td>\n",
       "      <td>1.0</td>\n",
       "      <td>0</td>\n",
       "      <td>0.0</td>\n",
       "      <td>2</td>\n",
       "      <td>2015</td>\n",
       "    </tr>\n",
       "    <tr>\n",
       "      <th>7</th>\n",
       "      <td>650464.0</td>\n",
       "      <td>930.0</td>\n",
       "      <td>5</td>\n",
       "      <td>1367.0</td>\n",
       "      <td>1.0</td>\n",
       "      <td>0.0</td>\n",
       "      <td>0</td>\n",
       "      <td>0.0</td>\n",
       "      <td>11</td>\n",
       "      <td>2014</td>\n",
       "    </tr>\n",
       "    <tr>\n",
       "      <th>8</th>\n",
       "      <td>162710.0</td>\n",
       "      <td>756.0</td>\n",
       "      <td>3</td>\n",
       "      <td>0.0</td>\n",
       "      <td>0.0</td>\n",
       "      <td>1.0</td>\n",
       "      <td>1</td>\n",
       "      <td>0.0</td>\n",
       "      <td>6</td>\n",
       "      <td>2015</td>\n",
       "    </tr>\n",
       "    <tr>\n",
       "      <th>9</th>\n",
       "      <td>100327.0</td>\n",
       "      <td>49.0</td>\n",
       "      <td>1</td>\n",
       "      <td>546.0</td>\n",
       "      <td>1.0</td>\n",
       "      <td>1.0</td>\n",
       "      <td>0</td>\n",
       "      <td>0.0</td>\n",
       "      <td>1</td>\n",
       "      <td>2015</td>\n",
       "    </tr>\n",
       "    <tr>\n",
       "      <th>10</th>\n",
       "      <td>374540.0</td>\n",
       "      <td>787.0</td>\n",
       "      <td>3</td>\n",
       "      <td>968.0</td>\n",
       "      <td>1.0</td>\n",
       "      <td>0.0</td>\n",
       "      <td>0</td>\n",
       "      <td>1.0</td>\n",
       "      <td>7</td>\n",
       "      <td>2015</td>\n",
       "    </tr>\n",
       "    <tr>\n",
       "      <th>11</th>\n",
       "      <td>399143.0</td>\n",
       "      <td>782.0</td>\n",
       "      <td>3</td>\n",
       "      <td>472.0</td>\n",
       "      <td>1.0</td>\n",
       "      <td>0.0</td>\n",
       "      <td>0</td>\n",
       "      <td>0.0</td>\n",
       "      <td>9</td>\n",
       "      <td>2013</td>\n",
       "    </tr>\n",
       "    <tr>\n",
       "      <th>12</th>\n",
       "      <td>44740.0</td>\n",
       "      <td>897.0</td>\n",
       "      <td>6</td>\n",
       "      <td>0.0</td>\n",
       "      <td>0.0</td>\n",
       "      <td>0.0</td>\n",
       "      <td>0</td>\n",
       "      <td>0.0</td>\n",
       "      <td>4</td>\n",
       "      <td>2014</td>\n",
       "    </tr>\n",
       "    <tr>\n",
       "      <th>13</th>\n",
       "      <td>674144.0</td>\n",
       "      <td>933.0</td>\n",
       "      <td>0</td>\n",
       "      <td>965.0</td>\n",
       "      <td>1.0</td>\n",
       "      <td>0.0</td>\n",
       "      <td>0</td>\n",
       "      <td>0.0</td>\n",
       "      <td>12</td>\n",
       "      <td>2013</td>\n",
       "    </tr>\n",
       "    <tr>\n",
       "      <th>14</th>\n",
       "      <td>81595.0</td>\n",
       "      <td>218.0</td>\n",
       "      <td>1</td>\n",
       "      <td>804.0</td>\n",
       "      <td>1.0</td>\n",
       "      <td>0.0</td>\n",
       "      <td>0</td>\n",
       "      <td>1.0</td>\n",
       "      <td>4</td>\n",
       "      <td>2015</td>\n",
       "    </tr>\n",
       "    <tr>\n",
       "      <th>15</th>\n",
       "      <td>416724.0</td>\n",
       "      <td>554.0</td>\n",
       "      <td>2</td>\n",
       "      <td>499.0</td>\n",
       "      <td>1.0</td>\n",
       "      <td>1.0</td>\n",
       "      <td>0</td>\n",
       "      <td>1.0</td>\n",
       "      <td>10</td>\n",
       "      <td>2013</td>\n",
       "    </tr>\n",
       "    <tr>\n",
       "      <th>16</th>\n",
       "      <td>632687.0</td>\n",
       "      <td>362.0</td>\n",
       "      <td>0</td>\n",
       "      <td>1337.0</td>\n",
       "      <td>1.0</td>\n",
       "      <td>1.0</td>\n",
       "      <td>0</td>\n",
       "      <td>1.0</td>\n",
       "      <td>8</td>\n",
       "      <td>2013</td>\n",
       "    </tr>\n",
       "    <tr>\n",
       "      <th>17</th>\n",
       "      <td>351899.0</td>\n",
       "      <td>655.0</td>\n",
       "      <td>2</td>\n",
       "      <td>560.0</td>\n",
       "      <td>1.0</td>\n",
       "      <td>0.0</td>\n",
       "      <td>0</td>\n",
       "      <td>0.0</td>\n",
       "      <td>4</td>\n",
       "      <td>2014</td>\n",
       "    </tr>\n",
       "    <tr>\n",
       "      <th>18</th>\n",
       "      <td>515940.0</td>\n",
       "      <td>785.0</td>\n",
       "      <td>2</td>\n",
       "      <td>461.0</td>\n",
       "      <td>1.0</td>\n",
       "      <td>0.0</td>\n",
       "      <td>0</td>\n",
       "      <td>1.0</td>\n",
       "      <td>12</td>\n",
       "      <td>2014</td>\n",
       "    </tr>\n",
       "    <tr>\n",
       "      <th>19</th>\n",
       "      <td>567411.0</td>\n",
       "      <td>690.0</td>\n",
       "      <td>2</td>\n",
       "      <td>866.0</td>\n",
       "      <td>1.0</td>\n",
       "      <td>1.0</td>\n",
       "      <td>0</td>\n",
       "      <td>0.0</td>\n",
       "      <td>3</td>\n",
       "      <td>2014</td>\n",
       "    </tr>\n",
       "  </tbody>\n",
       "</table>\n",
       "</div>"
      ],
      "text/plain": [
       "       index  store_ID  day_of_week  nb_customers_on_day  open  promotion  \\\n",
       "0   272371.0     415.0            6                  0.0   0.0        0.0   \n",
       "1   558468.0      27.0            6                  0.0   0.0        0.0   \n",
       "2    76950.0     404.0            2                657.0   1.0        1.0   \n",
       "3    77556.0     683.0            1                862.0   1.0        0.0   \n",
       "4   456344.0     920.0            2                591.0   1.0        1.0   \n",
       "5   436466.0     758.0            3                569.0   1.0        0.0   \n",
       "6   646251.0     563.0            0                321.0   1.0        1.0   \n",
       "7   650464.0     930.0            5               1367.0   1.0        0.0   \n",
       "8   162710.0     756.0            3                  0.0   0.0        1.0   \n",
       "9   100327.0      49.0            1                546.0   1.0        1.0   \n",
       "10  374540.0     787.0            3                968.0   1.0        0.0   \n",
       "11  399143.0     782.0            3                472.0   1.0        0.0   \n",
       "12   44740.0     897.0            6                  0.0   0.0        0.0   \n",
       "13  674144.0     933.0            0                965.0   1.0        0.0   \n",
       "14   81595.0     218.0            1                804.0   1.0        0.0   \n",
       "15  416724.0     554.0            2                499.0   1.0        1.0   \n",
       "16  632687.0     362.0            0               1337.0   1.0        1.0   \n",
       "17  351899.0     655.0            2                560.0   1.0        0.0   \n",
       "18  515940.0     785.0            2                461.0   1.0        0.0   \n",
       "19  567411.0     690.0            2                866.0   1.0        1.0   \n",
       "\n",
       "   state_holiday  school_holiday  month  year  \n",
       "0              0             0.0      3  2015  \n",
       "1              0             0.0     12  2013  \n",
       "2              0             0.0      3  2014  \n",
       "3              0             0.0      1  2013  \n",
       "4              0             0.0      3  2014  \n",
       "5              0             0.0      6  2014  \n",
       "6              0             0.0      2  2015  \n",
       "7              0             0.0     11  2014  \n",
       "8              1             0.0      6  2015  \n",
       "9              0             0.0      1  2015  \n",
       "10             0             1.0      7  2015  \n",
       "11             0             0.0      9  2013  \n",
       "12             0             0.0      4  2014  \n",
       "13             0             0.0     12  2013  \n",
       "14             0             1.0      4  2015  \n",
       "15             0             1.0     10  2013  \n",
       "16             0             1.0      8  2013  \n",
       "17             0             0.0      4  2014  \n",
       "18             0             1.0     12  2014  \n",
       "19             0             0.0      3  2014  "
      ]
     },
     "execution_count": 110,
     "metadata": {},
     "output_type": "execute_result"
    }
   ],
   "source": [
    "X_test_2"
   ]
  },
  {
   "cell_type": "code",
   "execution_count": 111,
   "metadata": {},
   "outputs": [
    {
     "data": {
      "text/html": [
       "<div>\n",
       "<style scoped>\n",
       "    .dataframe tbody tr th:only-of-type {\n",
       "        vertical-align: middle;\n",
       "    }\n",
       "\n",
       "    .dataframe tbody tr th {\n",
       "        vertical-align: top;\n",
       "    }\n",
       "\n",
       "    .dataframe thead th {\n",
       "        text-align: right;\n",
       "    }\n",
       "</style>\n",
       "<table border=\"1\" class=\"dataframe\">\n",
       "  <thead>\n",
       "    <tr style=\"text-align: right;\">\n",
       "      <th></th>\n",
       "      <th>store_ID</th>\n",
       "      <th>day_of_week</th>\n",
       "      <th>nb_customers_on_day</th>\n",
       "      <th>open</th>\n",
       "      <th>promotion</th>\n",
       "      <th>state_holiday</th>\n",
       "      <th>school_holiday</th>\n",
       "      <th>month</th>\n",
       "      <th>year</th>\n",
       "    </tr>\n",
       "  </thead>\n",
       "  <tbody>\n",
       "    <tr>\n",
       "      <th>0</th>\n",
       "      <td>415.0</td>\n",
       "      <td>6</td>\n",
       "      <td>0.0</td>\n",
       "      <td>0.0</td>\n",
       "      <td>0.0</td>\n",
       "      <td>0</td>\n",
       "      <td>0.0</td>\n",
       "      <td>3</td>\n",
       "      <td>2015</td>\n",
       "    </tr>\n",
       "    <tr>\n",
       "      <th>1</th>\n",
       "      <td>27.0</td>\n",
       "      <td>6</td>\n",
       "      <td>0.0</td>\n",
       "      <td>0.0</td>\n",
       "      <td>0.0</td>\n",
       "      <td>0</td>\n",
       "      <td>0.0</td>\n",
       "      <td>12</td>\n",
       "      <td>2013</td>\n",
       "    </tr>\n",
       "    <tr>\n",
       "      <th>2</th>\n",
       "      <td>404.0</td>\n",
       "      <td>2</td>\n",
       "      <td>657.0</td>\n",
       "      <td>1.0</td>\n",
       "      <td>1.0</td>\n",
       "      <td>0</td>\n",
       "      <td>0.0</td>\n",
       "      <td>3</td>\n",
       "      <td>2014</td>\n",
       "    </tr>\n",
       "    <tr>\n",
       "      <th>3</th>\n",
       "      <td>683.0</td>\n",
       "      <td>1</td>\n",
       "      <td>862.0</td>\n",
       "      <td>1.0</td>\n",
       "      <td>0.0</td>\n",
       "      <td>0</td>\n",
       "      <td>0.0</td>\n",
       "      <td>1</td>\n",
       "      <td>2013</td>\n",
       "    </tr>\n",
       "    <tr>\n",
       "      <th>4</th>\n",
       "      <td>920.0</td>\n",
       "      <td>2</td>\n",
       "      <td>591.0</td>\n",
       "      <td>1.0</td>\n",
       "      <td>1.0</td>\n",
       "      <td>0</td>\n",
       "      <td>0.0</td>\n",
       "      <td>3</td>\n",
       "      <td>2014</td>\n",
       "    </tr>\n",
       "    <tr>\n",
       "      <th>5</th>\n",
       "      <td>758.0</td>\n",
       "      <td>3</td>\n",
       "      <td>569.0</td>\n",
       "      <td>1.0</td>\n",
       "      <td>0.0</td>\n",
       "      <td>0</td>\n",
       "      <td>0.0</td>\n",
       "      <td>6</td>\n",
       "      <td>2014</td>\n",
       "    </tr>\n",
       "    <tr>\n",
       "      <th>6</th>\n",
       "      <td>563.0</td>\n",
       "      <td>0</td>\n",
       "      <td>321.0</td>\n",
       "      <td>1.0</td>\n",
       "      <td>1.0</td>\n",
       "      <td>0</td>\n",
       "      <td>0.0</td>\n",
       "      <td>2</td>\n",
       "      <td>2015</td>\n",
       "    </tr>\n",
       "    <tr>\n",
       "      <th>7</th>\n",
       "      <td>930.0</td>\n",
       "      <td>5</td>\n",
       "      <td>1367.0</td>\n",
       "      <td>1.0</td>\n",
       "      <td>0.0</td>\n",
       "      <td>0</td>\n",
       "      <td>0.0</td>\n",
       "      <td>11</td>\n",
       "      <td>2014</td>\n",
       "    </tr>\n",
       "    <tr>\n",
       "      <th>8</th>\n",
       "      <td>756.0</td>\n",
       "      <td>3</td>\n",
       "      <td>0.0</td>\n",
       "      <td>0.0</td>\n",
       "      <td>1.0</td>\n",
       "      <td>1</td>\n",
       "      <td>0.0</td>\n",
       "      <td>6</td>\n",
       "      <td>2015</td>\n",
       "    </tr>\n",
       "    <tr>\n",
       "      <th>9</th>\n",
       "      <td>49.0</td>\n",
       "      <td>1</td>\n",
       "      <td>546.0</td>\n",
       "      <td>1.0</td>\n",
       "      <td>1.0</td>\n",
       "      <td>0</td>\n",
       "      <td>0.0</td>\n",
       "      <td>1</td>\n",
       "      <td>2015</td>\n",
       "    </tr>\n",
       "    <tr>\n",
       "      <th>10</th>\n",
       "      <td>787.0</td>\n",
       "      <td>3</td>\n",
       "      <td>968.0</td>\n",
       "      <td>1.0</td>\n",
       "      <td>0.0</td>\n",
       "      <td>0</td>\n",
       "      <td>1.0</td>\n",
       "      <td>7</td>\n",
       "      <td>2015</td>\n",
       "    </tr>\n",
       "    <tr>\n",
       "      <th>11</th>\n",
       "      <td>782.0</td>\n",
       "      <td>3</td>\n",
       "      <td>472.0</td>\n",
       "      <td>1.0</td>\n",
       "      <td>0.0</td>\n",
       "      <td>0</td>\n",
       "      <td>0.0</td>\n",
       "      <td>9</td>\n",
       "      <td>2013</td>\n",
       "    </tr>\n",
       "    <tr>\n",
       "      <th>12</th>\n",
       "      <td>897.0</td>\n",
       "      <td>6</td>\n",
       "      <td>0.0</td>\n",
       "      <td>0.0</td>\n",
       "      <td>0.0</td>\n",
       "      <td>0</td>\n",
       "      <td>0.0</td>\n",
       "      <td>4</td>\n",
       "      <td>2014</td>\n",
       "    </tr>\n",
       "    <tr>\n",
       "      <th>13</th>\n",
       "      <td>933.0</td>\n",
       "      <td>0</td>\n",
       "      <td>965.0</td>\n",
       "      <td>1.0</td>\n",
       "      <td>0.0</td>\n",
       "      <td>0</td>\n",
       "      <td>0.0</td>\n",
       "      <td>12</td>\n",
       "      <td>2013</td>\n",
       "    </tr>\n",
       "    <tr>\n",
       "      <th>14</th>\n",
       "      <td>218.0</td>\n",
       "      <td>1</td>\n",
       "      <td>804.0</td>\n",
       "      <td>1.0</td>\n",
       "      <td>0.0</td>\n",
       "      <td>0</td>\n",
       "      <td>1.0</td>\n",
       "      <td>4</td>\n",
       "      <td>2015</td>\n",
       "    </tr>\n",
       "    <tr>\n",
       "      <th>15</th>\n",
       "      <td>554.0</td>\n",
       "      <td>2</td>\n",
       "      <td>499.0</td>\n",
       "      <td>1.0</td>\n",
       "      <td>1.0</td>\n",
       "      <td>0</td>\n",
       "      <td>1.0</td>\n",
       "      <td>10</td>\n",
       "      <td>2013</td>\n",
       "    </tr>\n",
       "    <tr>\n",
       "      <th>16</th>\n",
       "      <td>362.0</td>\n",
       "      <td>0</td>\n",
       "      <td>1337.0</td>\n",
       "      <td>1.0</td>\n",
       "      <td>1.0</td>\n",
       "      <td>0</td>\n",
       "      <td>1.0</td>\n",
       "      <td>8</td>\n",
       "      <td>2013</td>\n",
       "    </tr>\n",
       "    <tr>\n",
       "      <th>17</th>\n",
       "      <td>655.0</td>\n",
       "      <td>2</td>\n",
       "      <td>560.0</td>\n",
       "      <td>1.0</td>\n",
       "      <td>0.0</td>\n",
       "      <td>0</td>\n",
       "      <td>0.0</td>\n",
       "      <td>4</td>\n",
       "      <td>2014</td>\n",
       "    </tr>\n",
       "    <tr>\n",
       "      <th>18</th>\n",
       "      <td>785.0</td>\n",
       "      <td>2</td>\n",
       "      <td>461.0</td>\n",
       "      <td>1.0</td>\n",
       "      <td>0.0</td>\n",
       "      <td>0</td>\n",
       "      <td>1.0</td>\n",
       "      <td>12</td>\n",
       "      <td>2014</td>\n",
       "    </tr>\n",
       "    <tr>\n",
       "      <th>19</th>\n",
       "      <td>690.0</td>\n",
       "      <td>2</td>\n",
       "      <td>866.0</td>\n",
       "      <td>1.0</td>\n",
       "      <td>1.0</td>\n",
       "      <td>0</td>\n",
       "      <td>0.0</td>\n",
       "      <td>3</td>\n",
       "      <td>2014</td>\n",
       "    </tr>\n",
       "  </tbody>\n",
       "</table>\n",
       "</div>"
      ],
      "text/plain": [
       "    store_ID  day_of_week  nb_customers_on_day  open  promotion state_holiday  \\\n",
       "0      415.0            6                  0.0   0.0        0.0             0   \n",
       "1       27.0            6                  0.0   0.0        0.0             0   \n",
       "2      404.0            2                657.0   1.0        1.0             0   \n",
       "3      683.0            1                862.0   1.0        0.0             0   \n",
       "4      920.0            2                591.0   1.0        1.0             0   \n",
       "5      758.0            3                569.0   1.0        0.0             0   \n",
       "6      563.0            0                321.0   1.0        1.0             0   \n",
       "7      930.0            5               1367.0   1.0        0.0             0   \n",
       "8      756.0            3                  0.0   0.0        1.0             1   \n",
       "9       49.0            1                546.0   1.0        1.0             0   \n",
       "10     787.0            3                968.0   1.0        0.0             0   \n",
       "11     782.0            3                472.0   1.0        0.0             0   \n",
       "12     897.0            6                  0.0   0.0        0.0             0   \n",
       "13     933.0            0                965.0   1.0        0.0             0   \n",
       "14     218.0            1                804.0   1.0        0.0             0   \n",
       "15     554.0            2                499.0   1.0        1.0             0   \n",
       "16     362.0            0               1337.0   1.0        1.0             0   \n",
       "17     655.0            2                560.0   1.0        0.0             0   \n",
       "18     785.0            2                461.0   1.0        0.0             0   \n",
       "19     690.0            2                866.0   1.0        1.0             0   \n",
       "\n",
       "    school_holiday  month  year  \n",
       "0              0.0      3  2015  \n",
       "1              0.0     12  2013  \n",
       "2              0.0      3  2014  \n",
       "3              0.0      1  2013  \n",
       "4              0.0      3  2014  \n",
       "5              0.0      6  2014  \n",
       "6              0.0      2  2015  \n",
       "7              0.0     11  2014  \n",
       "8              0.0      6  2015  \n",
       "9              0.0      1  2015  \n",
       "10             1.0      7  2015  \n",
       "11             0.0      9  2013  \n",
       "12             0.0      4  2014  \n",
       "13             0.0     12  2013  \n",
       "14             1.0      4  2015  \n",
       "15             1.0     10  2013  \n",
       "16             1.0      8  2013  \n",
       "17             0.0      4  2014  \n",
       "18             1.0     12  2014  \n",
       "19             0.0      3  2014  "
      ]
     },
     "execution_count": 111,
     "metadata": {},
     "output_type": "execute_result"
    }
   ],
   "source": [
    "X_test_2_review"
   ]
  },
  {
   "cell_type": "markdown",
   "metadata": {},
   "source": [
    "`Checking if the DF's have the same columns as the training we did before`"
   ]
  },
  {
   "cell_type": "code",
   "execution_count": 112,
   "metadata": {},
   "outputs": [],
   "source": [
    "sales_model_predictions = sales_model_4.predict(X_test_2_review)"
   ]
  },
  {
   "cell_type": "code",
   "execution_count": 113,
   "metadata": {},
   "outputs": [
    {
     "data": {
      "text/plain": [
       "array([  168.30566564,   126.34803773,  6757.30919886,  6797.92512752,\n",
       "        6106.43556698,  5188.29859049,  3989.80360863, 10020.06697832,\n",
       "         229.22064808,  6551.77928549,  8104.19495119,  4463.12673828,\n",
       "          14.94772177,  8503.18047352,  6878.86183935,  5438.91133448,\n",
       "       12343.15955302,  5147.63538508,  4578.98746988,  8223.72302288])"
      ]
     },
     "execution_count": 113,
     "metadata": {},
     "output_type": "execute_result"
    }
   ],
   "source": [
    "sales_model_predictions"
   ]
  },
  {
   "cell_type": "code",
   "execution_count": 114,
   "metadata": {},
   "outputs": [],
   "source": [
    "output_file = pd.DataFrame(X_test_2[\"index\"])"
   ]
  },
  {
   "cell_type": "code",
   "execution_count": 115,
   "metadata": {},
   "outputs": [],
   "source": [
    "output_file[\"sales\"] = sales_model_predictions"
   ]
  },
  {
   "cell_type": "markdown",
   "metadata": {},
   "source": [
    "`Predictions saved in a new df and then to a CSV file`"
   ]
  },
  {
   "cell_type": "code",
   "execution_count": 116,
   "metadata": {},
   "outputs": [],
   "source": [
    "csv_file_path = 'output_file.csv'\n",
    "\n",
    "output_file.to_csv(csv_file_path, index=False)"
   ]
  },
  {
   "cell_type": "markdown",
   "metadata": {},
   "source": [
    "# 8. Final Predictions on validation_for_students"
   ]
  },
  {
   "cell_type": "code",
   "execution_count": 121,
   "metadata": {},
   "outputs": [],
   "source": [
    "test_data_path = \"validation_for students.csv\"\n",
    "X_test_3 = pd.read_csv(test_data_path)\n",
    "X_test_3 = X_test_3.dropna()\n",
    "#Date Review\n",
    "X_test_3[\"date\"] = pd.to_datetime(X_test_3[\"date\"], format=\"%d/%m/%Y\")\n",
    "X_test_3[\"day_of_week\"] = X_test_3[\"date\"].dt.dayofweek\n",
    "\n",
    "X_test_3[\"month\"] = X_test_3[\"date\"].dt.month\n",
    "X_test_3[\"year\"] = X_test_3[\"date\"].dt.year\n",
    "\n",
    "X_test_3 = X_test_3.drop(columns=[\"date\"])\n",
    "\n",
    "#Holiday Review:\n",
    "X_test_3[\"state_holiday\"] = X_test_3[\"state_holiday\"].replace([\"a\", \"b\", \"c\"], 1)\n",
    "X_test_3_review = X_test_3.drop(columns=[\"index\"])\n",
    "\n",
    "sales_model_final_predictions = sales_model_4.predict(X_test_3_review)\n",
    "\n",
    "output_file_for_students = pd.DataFrame(X_test_3[\"index\"])\n",
    "\n",
    "output_file_for_students[\"sales\"] = sales_model_final_predictions\n",
    "\n",
    "csv_file_path = 'output_file_for_students.csv'\n",
    "\n",
    "output_file_for_students.to_csv(csv_file_path, index=False)"
   ]
  }
 ],
 "metadata": {
  "kernelspec": {
   "display_name": "base",
   "language": "python",
   "name": "python3"
  },
  "language_info": {
   "codemirror_mode": {
    "name": "ipython",
    "version": 3
   },
   "file_extension": ".py",
   "mimetype": "text/x-python",
   "name": "python",
   "nbconvert_exporter": "python",
   "pygments_lexer": "ipython3",
   "version": "3.11.3"
  }
 },
 "nbformat": 4,
 "nbformat_minor": 2
}
